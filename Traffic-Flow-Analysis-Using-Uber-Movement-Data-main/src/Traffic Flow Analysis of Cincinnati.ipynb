{
 "cells": [
  {
   "attachments": {},
   "cell_type": "markdown",
   "metadata": {},
   "source": [
    "<center>\n",
    "    <h1>Traffic Flow Analysis of Cincinnati</h1>\n",
    "    <h2>Network Analysis</h2>\n",
    "    <h3>Mohammad Reza Ghasemi Madani and Riccardo Spolaor</h3>\n",
    "    <h4> mohammadreza.ghasemi@studio.unibo.it, riccardo.spolaor@studio.unibo.it</h4>\n",
    "</center>\n",
    "\n",
    "---\n",
    "\n",
    "The study's objective is to replicate and extend the Stanford study [*Traffic Flow Analysis Using\n",
    "Uber Movement Data*](http://snap.stanford.edu/class/cs224w-2017/projects/cs224w-11-final.pdf) considering the city of Cincinnati.\n",
    "\n",
    "The analysis is divided into two steps. Firstly, node centrality is computed in order to investigate traffic behavior throughout different times of the day in comparison to the topographic structure of the cities. Next, community detection is applied to identify travel clusters and regions with similar characteristics."
   ]
  },
  {
   "cell_type": "code",
   "execution_count": 1,
   "metadata": {
    "ExecuteTime": {
     "end_time": "2023-05-13T16:04:58.439794300Z",
     "start_time": "2023-05-13T16:04:57.547691100Z"
    }
   },
   "outputs": [],
   "source": [
    "import numpy as np\n",
    "import networkx as nx"
   ]
  },
  {
   "cell_type": "code",
   "execution_count": 2,
   "metadata": {
    "ExecuteTime": {
     "end_time": "2023-05-13T16:04:58.439794300Z",
     "start_time": "2023-05-13T16:04:58.030749700Z"
    }
   },
   "outputs": [],
   "source": [
    "# Settings for autoreloading\n",
    "\n",
    "%load_ext autoreload\n",
    "%autoreload 2"
   ]
  },
  {
   "cell_type": "code",
   "execution_count": 3,
   "metadata": {
    "ExecuteTime": {
     "end_time": "2023-05-13T16:04:58.471923600Z",
     "start_time": "2023-05-13T16:04:58.124667500Z"
    }
   },
   "outputs": [],
   "source": [
    "from random import seed\n",
    "\n",
    "# Settings for riproducibility\n",
    "SEED = 42\n",
    "np.random.seed(SEED)\n",
    "seed(SEED)"
   ]
  },
  {
   "cell_type": "code",
   "execution_count": 4,
   "metadata": {
    "ExecuteTime": {
     "end_time": "2023-05-13T16:04:58.471923600Z",
     "start_time": "2023-05-13T16:04:58.204364800Z"
    }
   },
   "outputs": [],
   "source": [
    "import os\n",
    "\n",
    "# Important constants\n",
    "CITY_NAME = 'Cincinnati'\n",
    "GEOJSON_PATH = os.path.join('data', 'cincinnati_censustracts.json')\n",
    "TRAVEL_TIMES_DATA_PATH = os.path.join('data', 'cincinnati-censustracts-2020-1-OnlyWeekdays-HourlyAggregate.csv')"
   ]
  },
  {
   "attachments": {},
   "cell_type": "markdown",
   "metadata": {},
   "source": [
    "# 01 Networks Definition\n",
    "In this section the temporal network defining the mean travel times during weekdays at different hours is built along with a spatial graph defining the city structure."
   ]
  },
  {
   "attachments": {},
   "cell_type": "markdown",
   "metadata": {},
   "source": [
    "## 01.1 Spatial Network\n",
    "A spatial network is built as an undirected graph where the node correspond to different blocks of the cities and the edges contain the distance between neighboring regions.\n",
    "\n",
    "A `GeoJSON` file describing the coordinates of the polygons which delimit the zones in the city is imported as a `GeoDataFrame` and  exploited to build the spatial network that models the underlying city structure."
   ]
  },
  {
   "cell_type": "code",
   "execution_count": 5,
   "metadata": {
    "ExecuteTime": {
     "end_time": "2023-05-13T16:04:59.547425600Z",
     "start_time": "2023-05-13T16:04:58.282496900Z"
    }
   },
   "outputs": [
    {
     "ename": "FileNotFoundError",
     "evalue": "[Errno 2] No such file or directory: 'data\\\\cincinnati_censustracts.json'",
     "output_type": "error",
     "traceback": [
      "\u001B[1;31m---------------------------------------------------------------------------\u001B[0m",
      "\u001B[1;31mFileNotFoundError\u001B[0m                         Traceback (most recent call last)",
      "Cell \u001B[1;32mIn[5], line 3\u001B[0m\n\u001B[0;32m      1\u001B[0m \u001B[38;5;28;01mfrom\u001B[39;00m \u001B[38;5;21;01mutils\u001B[39;00m\u001B[38;5;21;01m.\u001B[39;00m\u001B[38;5;21;01mgeodataframe\u001B[39;00m \u001B[38;5;28;01mimport\u001B[39;00m get_geodataframe\n\u001B[1;32m----> 3\u001B[0m gdf \u001B[38;5;241m=\u001B[39m \u001B[43mget_geodataframe\u001B[49m\u001B[43m(\u001B[49m\u001B[43mGEOJSON_PATH\u001B[49m\u001B[43m)\u001B[49m\n\u001B[0;32m      5\u001B[0m \u001B[38;5;28mprint\u001B[39m(\u001B[38;5;124mf\u001B[39m\u001B[38;5;124m'\u001B[39m\u001B[38;5;124mGeodataframe of \u001B[39m\u001B[38;5;132;01m{\u001B[39;00mCITY_NAME\u001B[38;5;132;01m}\u001B[39;00m\u001B[38;5;124m:\u001B[39m\u001B[38;5;124m'\u001B[39m)\n\u001B[0;32m      6\u001B[0m gdf\u001B[38;5;241m.\u001B[39mhead()\n",
      "File \u001B[1;32mE:\\Codes\\Social Network Analysis\\Traffic-Flow-Analysis-Using-Uber-Movement-Data-main\\src\\utils\\geodataframe.py:20\u001B[0m, in \u001B[0;36mget_geodataframe\u001B[1;34m(geojson_file_path)\u001B[0m\n\u001B[0;32m      7\u001B[0m \u001B[38;5;28;01mdef\u001B[39;00m \u001B[38;5;21mget_geodataframe\u001B[39m(geojson_file_path: \u001B[38;5;28mstr\u001B[39m) \u001B[38;5;241m-\u001B[39m\u001B[38;5;241m>\u001B[39m gpd\u001B[38;5;241m.\u001B[39mGeoDataFrame:\n\u001B[0;32m      8\u001B[0m     \u001B[38;5;124;03m\"\"\"Get a geodataframe from a geojson file.\u001B[39;00m\n\u001B[0;32m      9\u001B[0m \n\u001B[0;32m     10\u001B[0m \u001B[38;5;124;03m    Parameters\u001B[39;00m\n\u001B[1;32m   (...)\u001B[0m\n\u001B[0;32m     18\u001B[0m \u001B[38;5;124;03m        The geodataframe based on the geojson.\u001B[39;00m\n\u001B[0;32m     19\u001B[0m \u001B[38;5;124;03m    \"\"\"\u001B[39;00m\n\u001B[1;32m---> 20\u001B[0m     \u001B[38;5;28;01mwith\u001B[39;00m \u001B[38;5;28;43mopen\u001B[39;49m\u001B[43m(\u001B[49m\u001B[43mgeojson_file_path\u001B[49m\u001B[43m)\u001B[49m \u001B[38;5;28;01mas\u001B[39;00m f:\n\u001B[0;32m     21\u001B[0m         \u001B[38;5;66;03m# Load the geojson file and keep just the `features` field\u001B[39;00m\n\u001B[0;32m     22\u001B[0m         geo_json \u001B[38;5;241m=\u001B[39m json\u001B[38;5;241m.\u001B[39mload(f)\n\u001B[0;32m     23\u001B[0m         geo_json \u001B[38;5;241m=\u001B[39m geo_json[\u001B[38;5;124m'\u001B[39m\u001B[38;5;124mfeatures\u001B[39m\u001B[38;5;124m'\u001B[39m]\n",
      "\u001B[1;31mFileNotFoundError\u001B[0m: [Errno 2] No such file or directory: 'data\\\\cincinnati_censustracts.json'"
     ]
    }
   ],
   "source": [
    "from utils.geodataframe import get_geodataframe\n",
    "\n",
    "gdf = get_geodataframe(GEOJSON_PATH)\n",
    "\n",
    "print(f'Geodataframe of {CITY_NAME}:')\n",
    "gdf.head()"
   ]
  },
  {
   "attachments": {},
   "cell_type": "markdown",
   "metadata": {},
   "source": [
    "Centroids are computed for each area. They are subsequently used to calculate the distance among the areas and are used as reference points."
   ]
  },
  {
   "cell_type": "code",
   "execution_count": null,
   "metadata": {
    "ExecuteTime": {
     "start_time": "2023-05-13T16:04:59.504052900Z"
    }
   },
   "outputs": [],
   "source": [
    "from utils.geodataframe import set_geodataframe_centroids\n",
    "\n",
    "set_geodataframe_centroids(gdf)"
   ]
  },
  {
   "cell_type": "code",
   "execution_count": null,
   "metadata": {
    "ExecuteTime": {
     "start_time": "2023-05-13T16:04:59.516568Z"
    }
   },
   "outputs": [],
   "source": [
    "print(f'Geodataframe of {CITY_NAME} after the centroid computation:')\n",
    "gdf.head()"
   ]
  },
  {
   "attachments": {},
   "cell_type": "markdown",
   "metadata": {},
   "source": [
    "The spatial network is built from the `GeoDataFrame` and its statistics are illustrated."
   ]
  },
  {
   "cell_type": "code",
   "execution_count": null,
   "metadata": {
    "ExecuteTime": {
     "start_time": "2023-05-13T16:04:59.516568Z"
    }
   },
   "outputs": [],
   "source": [
    "from utils.spatial_network import get_spatial_network\n",
    "\n",
    "spatial_network = get_spatial_network(gdf)"
   ]
  },
  {
   "cell_type": "code",
   "execution_count": null,
   "metadata": {
    "ExecuteTime": {
     "start_time": "2023-05-13T16:04:59.516568Z"
    }
   },
   "outputs": [],
   "source": [
    "print(f'Number of nodes in the spatial network: {len(spatial_network.nodes())}')\n",
    "print(f'Number of edges in the spatial network: {len(spatial_network.edges())}')\n",
    "print(f'Spatial network density: {nx.density(spatial_network)}')"
   ]
  },
  {
   "cell_type": "code",
   "execution_count": null,
   "metadata": {
    "ExecuteTime": {
     "start_time": "2023-05-13T16:04:59.516568Z"
    }
   },
   "outputs": [],
   "source": [
    "print(f'The spatial network is directed: {nx.is_directed(spatial_network)}')"
   ]
  },
  {
   "attachments": {},
   "cell_type": "markdown",
   "metadata": {},
   "source": [
    "Finally, the spatial network is shown below over the city map."
   ]
  },
  {
   "cell_type": "code",
   "execution_count": null,
   "metadata": {
    "ExecuteTime": {
     "start_time": "2023-05-13T16:04:59.516568Z"
    }
   },
   "outputs": [],
   "source": [
    "from utils.graphics import plot_spatial_network\n",
    "\n",
    "plot_spatial_network(gdf, spatial_network, title=f\"{CITY_NAME}'s spatial network representation\")"
   ]
  },
  {
   "attachments": {},
   "cell_type": "markdown",
   "metadata": {},
   "source": [
    "# 01.2 Temporal Network\n",
    "A temporal Network with dynamic weights on the edges is defined. The nodes correspond to different regions and are a subset of the ones\n",
    "present in the spatial network, while the edges include the average travel time over the different considered hours of the day across the regions. The dynamicity of the temporal network is handled by building a dictionary that for each considered hour, contains the view of the temporal network at that specific hour.\n",
    "\n",
    "A `pandas DataFrame` containing the mean travel times among regions is initially created from the `.csv` of the *Uber Movement* data of the city."
   ]
  },
  {
   "cell_type": "code",
   "execution_count": null,
   "metadata": {
    "ExecuteTime": {
     "start_time": "2023-05-13T16:04:59.531787800Z"
    }
   },
   "outputs": [],
   "source": [
    "from utils.temporal_network import get_movement_dataframe\n",
    "\n",
    "df = get_movement_dataframe(TRAVEL_TIMES_DATA_PATH)\n",
    "\n",
    "print(f\"{CITY_NAME}'s movement dataframe:\")\n",
    "df.head()"
   ]
  },
  {
   "attachments": {},
   "cell_type": "markdown",
   "metadata": {},
   "source": [
    "The temporal network is built from the `DataFrame` and its statistics are illustrated."
   ]
  },
  {
   "cell_type": "code",
   "execution_count": null,
   "metadata": {
    "ExecuteTime": {
     "start_time": "2023-05-13T16:04:59.531787800Z"
    }
   },
   "outputs": [],
   "source": [
    "from utils.temporal_network import get_temporal_networks_from_pandas_edgelist\n",
    "\n",
    "temporal_networks_dict = get_temporal_networks_from_pandas_edgelist(df, [0, 8, 13, 20])"
   ]
  },
  {
   "cell_type": "code",
   "execution_count": null,
   "metadata": {},
   "outputs": [],
   "source": [
    "for k, v in temporal_networks_dict.items():\n",
    "   print(f'Temporal network at time {k}: nodes: {len(v.nodes())} edges: {len(v.edges())} density: {nx.density(v)}') "
   ]
  },
  {
   "cell_type": "code",
   "execution_count": null,
   "metadata": {},
   "outputs": [],
   "source": [
    "for k, v in temporal_networks_dict.items():\n",
    "    print(f'Temporal network at time {k} is directed: {nx.is_directed(v)}') "
   ]
  },
  {
   "attachments": {},
   "cell_type": "markdown",
   "metadata": {},
   "source": [
    "# 02 Analysis\n",
    "Centrality and community detection algorithms are applied on both the spatial and temporal networks of the city in order to extract insights about the traffic flow."
   ]
  },
  {
   "attachments": {},
   "cell_type": "markdown",
   "metadata": {},
   "source": [
    "## 02.1 Node centrality\n",
    "Centrality metrics are examined to identify bottlenecks or peak traffic zones in the temporal network and core/peripheral zones in the spatial network, aiming to better understand the structural characteristics of urban traffic flow and human activity in the considered cities."
   ]
  },
  {
   "attachments": {},
   "cell_type": "markdown",
   "metadata": {},
   "source": [
    "### 02.1.1 Node degree\n",
    "In temporal graphs nodes with high weighted *in-degree* and *out-degree* are likely to correspond to areas of high traffic congestion. Specifically, high *in-degree* nodes indicate areas that are the destination of many travelers, while high *out-degree*\n",
    "nodes indicate areas that are the origin of many travels."
   ]
  },
  {
   "attachments": {},
   "cell_type": "markdown",
   "metadata": {},
   "source": [
    "#### In-degree\n",
    "Firstly, the *in-degree* of the nodes in temporal network is computed and the results are illustrated. "
   ]
  },
  {
   "cell_type": "code",
   "execution_count": null,
   "metadata": {},
   "outputs": [],
   "source": [
    "from utils.metrics import get_nodes_in_degree_centrality\n",
    "\n",
    "temporal_networks_in_degrees = {\n",
    "    k: get_nodes_in_degree_centrality(v, weight='mean_travel_time', normalize=False)\n",
    "    for k, v in temporal_networks_dict.items()\n",
    "}"
   ]
  },
  {
   "cell_type": "code",
   "execution_count": null,
   "metadata": {},
   "outputs": [],
   "source": [
    "from utils.graphics import plot_normalized_temporal_centralities\n",
    "\n",
    "plot_normalized_temporal_centralities(gdf, spatial_network, temporal_networks_in_degrees, CITY_NAME, 'in-degree')"
   ]
  },
  {
   "cell_type": "code",
   "execution_count": null,
   "metadata": {},
   "outputs": [],
   "source": [
    "from utils.graphics import plot_temporal_network_centrality_distribution\n",
    "\n",
    "plot_temporal_network_centrality_distribution(temporal_networks_in_degrees, 'in-degree centrality')"
   ]
  },
  {
   "attachments": {},
   "cell_type": "markdown",
   "metadata": {},
   "source": [
    "#### Out-degree\n",
    "Next, the *out-degree* of the nodes in temporal network is computed and the results are illustrated. "
   ]
  },
  {
   "cell_type": "code",
   "execution_count": null,
   "metadata": {},
   "outputs": [],
   "source": [
    "from utils.metrics import get_nodes_out_degree_centrality\n",
    "\n",
    "temporal_networks_out_degrees = {\n",
    "    k: get_nodes_out_degree_centrality(v, weight='mean_travel_time', normalize=False)\n",
    "    for k, v in temporal_networks_dict.items()\n",
    "}"
   ]
  },
  {
   "cell_type": "code",
   "execution_count": null,
   "metadata": {},
   "outputs": [],
   "source": [
    "from utils.graphics import plot_normalized_temporal_centralities\n",
    "\n",
    "plot_normalized_temporal_centralities(gdf, spatial_network, temporal_networks_out_degrees, CITY_NAME, 'out-degree')"
   ]
  },
  {
   "cell_type": "code",
   "execution_count": null,
   "metadata": {},
   "outputs": [],
   "source": [
    "from utils.graphics import plot_temporal_network_centrality_distribution\n",
    "\n",
    "plot_temporal_network_centrality_distribution(temporal_networks_out_degrees, 'out-degree centrality')"
   ]
  },
  {
   "attachments": {},
   "cell_type": "markdown",
   "metadata": {},
   "source": [
    "### 02.1.2 Node betweenness\n",
    "*Betweenness centrality* is a measure of a node's importance in a network based on the number of shortest paths that pass through it. Hence, nodes with high *betweenness centrality* are considered to be structurally important for connecting regions in the spatial graph. In the temporal graph the betweenness values of the nodes can be seen as traffic movement. Changes in this metric during different hours of the day can evaluate traffic movement and predict traffic flow."
   ]
  },
  {
   "attachments": {},
   "cell_type": "markdown",
   "metadata": {},
   "source": [
    "#### Temporal Network\n",
    "Firstly, the *betweenness* of the nodes is computed on the temporal network and the results are illustrated."
   ]
  },
  {
   "cell_type": "code",
   "execution_count": null,
   "metadata": {},
   "outputs": [],
   "source": [
    "from utils.metrics import get_nodes_betweenness_centrality\n",
    "\n",
    "temporal_networks_betweenness = {\n",
    "    k: get_nodes_betweenness_centrality(v, weight='mean_travel_time', normalize=False)\n",
    "    for k, v in temporal_networks_dict.items()\n",
    "}"
   ]
  },
  {
   "cell_type": "code",
   "execution_count": null,
   "metadata": {},
   "outputs": [],
   "source": [
    "from utils.graphics import plot_normalized_temporal_centralities\n",
    "\n",
    "plot_normalized_temporal_centralities(gdf, spatial_network, temporal_networks_betweenness, CITY_NAME, 'betweenness')"
   ]
  },
  {
   "cell_type": "code",
   "execution_count": null,
   "metadata": {},
   "outputs": [],
   "source": [
    "from utils.graphics import plot_temporal_network_centrality_distribution\n",
    "\n",
    "plot_temporal_network_centrality_distribution(temporal_networks_betweenness, 'betweenness centrality')"
   ]
  },
  {
   "attachments": {},
   "cell_type": "markdown",
   "metadata": {},
   "source": [
    "#### Spatial Network\n",
    "Next, the *betweenness* of the nodes is computed on the spatial network and the results are illustrated."
   ]
  },
  {
   "cell_type": "code",
   "execution_count": null,
   "metadata": {},
   "outputs": [],
   "source": [
    "from utils.metrics import get_nodes_betweenness_centrality\n",
    "\n",
    "spatial_network_betweenness = get_nodes_betweenness_centrality(spatial_network, weight='weight', normalize=True)"
   ]
  },
  {
   "cell_type": "code",
   "execution_count": null,
   "metadata": {},
   "outputs": [],
   "source": [
    "from utils.graphics import plot_centrality\n",
    "\n",
    "plot_centrality(gdf, spatial_network, spatial_network_betweenness,\n",
    "                title = f\"{CITY_NAME}'s betweenness centrality based on city distance\")"
   ]
  },
  {
   "cell_type": "code",
   "execution_count": null,
   "metadata": {},
   "outputs": [],
   "source": [
    "from utils.graphics import plot_spatial_network_centrality_distribution\n",
    "\n",
    "plot_spatial_network_centrality_distribution(spatial_network_betweenness, 'betweenness centrality')"
   ]
  },
  {
   "attachments": {},
   "cell_type": "markdown",
   "metadata": {},
   "source": [
    "## 02.1.3 Node Closeness\n",
    "*Closeness centrality* measures nodes' importance in a network based on how quickly it can reach all other nodes in the network. Regions with high *closeness centrality* can quickly access other areas in the network. So in the spatial and temporal graph the nodes in the center should have the highest closeness centrality scores."
   ]
  },
  {
   "cell_type": "code",
   "execution_count": null,
   "metadata": {},
   "outputs": [],
   "source": [
    "from utils.metrics import get_nodes_closeness_centrality\n",
    "\n",
    "temporal_networks_closeness = {\n",
    "    k: get_nodes_closeness_centrality(v, weight='mean_travel_time', normalize=False)\n",
    "    for k, v in temporal_networks_dict.items()\n",
    "}"
   ]
  },
  {
   "cell_type": "code",
   "execution_count": null,
   "metadata": {},
   "outputs": [],
   "source": [
    "from utils.graphics import plot_normalized_temporal_centralities\n",
    "\n",
    "plot_normalized_temporal_centralities(gdf, spatial_network, temporal_networks_closeness, CITY_NAME, 'closeness')\n"
   ]
  },
  {
   "cell_type": "code",
   "execution_count": null,
   "metadata": {},
   "outputs": [],
   "source": [
    "from utils.graphics import plot_temporal_network_centrality_distribution\n",
    "\n",
    "plot_temporal_network_centrality_distribution(temporal_networks_closeness, 'closeness centrality')"
   ]
  },
  {
   "attachments": {},
   "cell_type": "markdown",
   "metadata": {},
   "source": [
    "#### Spatial Network\n",
    "Next, the *closeness* of the nodes is computed on the spatial network and the results are illustrated."
   ]
  },
  {
   "cell_type": "code",
   "execution_count": null,
   "metadata": {},
   "outputs": [],
   "source": [
    "from utils.metrics import get_nodes_closeness_centrality\n",
    "\n",
    "spatial_network_closeness = get_nodes_closeness_centrality(spatial_network, weight='weight', normalize=True)"
   ]
  },
  {
   "cell_type": "code",
   "execution_count": null,
   "metadata": {},
   "outputs": [],
   "source": [
    "from utils.graphics import plot_centrality\n",
    "\n",
    "plot_centrality(gdf, spatial_network, spatial_network_closeness,\n",
    "                title=f\"{CITY_NAME}'s closeness centrality based on city distance\")\n"
   ]
  },
  {
   "cell_type": "code",
   "execution_count": null,
   "metadata": {},
   "outputs": [],
   "source": [
    "from utils.graphics import plot_spatial_network_centrality_distribution\n",
    "\n",
    "plot_spatial_network_centrality_distribution(spatial_network_closeness, 'closeness centrality')"
   ]
  },
  {
   "attachments": {},
   "cell_type": "markdown",
   "metadata": {},
   "source": [
    "### 02.1.4 Nodes PageRank\n",
    "*PageRank centrality* considers a node's importance based on the number and quality of links pointing to it. In the context of traffic analysis, links to central regions count more compared to the low transit regions. The *PageRank* of nodes in the temporal graph reflects the amount of traffic directed to them or adjacent regions and it can be employed to locate hotspots in cities during various times of the day. In the spatial graph, it highlights zones that connect densely joined regions."
   ]
  },
  {
   "attachments": {},
   "cell_type": "markdown",
   "metadata": {},
   "source": [
    "#### Temporal Network\n",
    "Firstly, the *PageRank* of the nodes is computed on the temporal network and the results are illustrated."
   ]
  },
  {
   "cell_type": "code",
   "execution_count": null,
   "metadata": {},
   "outputs": [],
   "source": [
    "from utils.metrics import get_nodes_pagerank_centrality\n",
    "\n",
    "temporal_networks_pagerank = {\n",
    "    k: get_nodes_pagerank_centrality(v, weight='mean_travel_time', normalize=False)\n",
    "    for k, v in temporal_networks_dict.items()\n",
    "}"
   ]
  },
  {
   "cell_type": "code",
   "execution_count": null,
   "metadata": {},
   "outputs": [],
   "source": [
    "from utils.graphics import plot_normalized_temporal_centralities\n",
    "\n",
    "plot_normalized_temporal_centralities(gdf, spatial_network, temporal_networks_pagerank, CITY_NAME, 'PageRank')"
   ]
  },
  {
   "cell_type": "code",
   "execution_count": null,
   "metadata": {},
   "outputs": [],
   "source": [
    "from utils.graphics import plot_temporal_network_centrality_distribution\n",
    "\n",
    "plot_temporal_network_centrality_distribution(temporal_networks_pagerank, 'PageRank centrality')"
   ]
  },
  {
   "attachments": {},
   "cell_type": "markdown",
   "metadata": {},
   "source": [
    "#### Spatial Network\n",
    "Next, the *PageRank* of the nodes is computed on the spatial network and the results are illustrated."
   ]
  },
  {
   "cell_type": "code",
   "execution_count": null,
   "metadata": {},
   "outputs": [],
   "source": [
    "from utils.metrics import get_nodes_pagerank_centrality\n",
    "\n",
    "spatial_network_pagerank = get_nodes_pagerank_centrality(spatial_network, weight='weight', normalize=True)"
   ]
  },
  {
   "cell_type": "code",
   "execution_count": null,
   "metadata": {},
   "outputs": [],
   "source": [
    "from utils.graphics import plot_centrality\n",
    "\n",
    "plot_centrality(gdf, spatial_network, spatial_network_pagerank,\n",
    "                title=f\"{CITY_NAME}'s PageRank centrality based on city distance\")\n"
   ]
  },
  {
   "cell_type": "code",
   "execution_count": null,
   "metadata": {},
   "outputs": [],
   "source": [
    "from utils.graphics import plot_spatial_network_centrality_distribution\n",
    "\n",
    "plot_spatial_network_centrality_distribution(spatial_network_pagerank, 'PageRank centrality')"
   ]
  },
  {
   "attachments": {},
   "cell_type": "markdown",
   "metadata": {},
   "source": [
    "### 02.1.5 HITS measure for Nodes Hubs and Authorities\n",
    "It gives each node in a directed network two centrality scores: the *Authority* and the *Hub* centrality. High authority nodes are the \"more resourceful\", hence the ones receiving more links. Differently, high hub scores are given to nodes that connect to high authority nodes. In the temporal graphs, authority can be interpreted as a measure of total time invested to reach a given region, while hub scores are a measure of the total time spent to drive to main travel regions. The results of this metric on the spatial graph are not\n",
    "particularly important."
   ]
  },
  {
   "cell_type": "code",
   "execution_count": null,
   "metadata": {},
   "outputs": [],
   "source": [
    "from utils.metrics import get_nodes_hits_centrality\n",
    "\n",
    "temporal_networks_hubs = dict()\n",
    "temporal_networks_authorities = dict()\n",
    "\n",
    "for k, v in temporal_networks_dict.items():\n",
    "    hubs, authorities = get_nodes_hits_centrality(v, normalize=True, weight='mean_travel_time')\n",
    "    temporal_networks_hubs[k] = hubs\n",
    "    temporal_networks_authorities[k] = authorities"
   ]
  },
  {
   "attachments": {},
   "cell_type": "markdown",
   "metadata": {},
   "source": [
    "#### Temporal Network Hubs\n",
    "Firstly, the *Hubs* of the nodes is computed on the temporal network and the results are illustrated."
   ]
  },
  {
   "cell_type": "code",
   "execution_count": null,
   "metadata": {},
   "outputs": [],
   "source": [
    "from utils.graphics import plot_normalized_temporal_centralities\n",
    "\n",
    "plot_normalized_temporal_centralities(gdf, spatial_network, temporal_networks_hubs, CITY_NAME, 'Hubs')"
   ]
  },
  {
   "cell_type": "code",
   "execution_count": null,
   "metadata": {},
   "outputs": [],
   "source": [
    "from utils.graphics import plot_temporal_network_centrality_distribution\n",
    "\n",
    "plot_temporal_network_centrality_distribution(temporal_networks_hubs, 'hubs centrality')"
   ]
  },
  {
   "attachments": {},
   "cell_type": "markdown",
   "metadata": {},
   "source": [
    "#### Temporal Network Authorities\n",
    "Next, the *Authorities* of the nodes is computed on the temporal network and the results are illustrated."
   ]
  },
  {
   "cell_type": "code",
   "execution_count": null,
   "metadata": {},
   "outputs": [],
   "source": [
    "from utils.graphics import plot_normalized_temporal_centralities\n",
    "\n",
    "plot_normalized_temporal_centralities(gdf, spatial_network, temporal_networks_authorities, CITY_NAME, 'Authorities')"
   ]
  },
  {
   "cell_type": "code",
   "execution_count": null,
   "metadata": {},
   "outputs": [],
   "source": [
    "from utils.graphics import plot_temporal_network_centrality_distribution\n",
    "\n",
    "plot_temporal_network_centrality_distribution(temporal_networks_authorities, 'authorities centrality')"
   ]
  },
  {
   "attachments": {},
   "cell_type": "markdown",
   "metadata": {},
   "source": [
    "#### Spatial Network Hubs and Authorities\n",
    "Finally, the *Hubs* and *Authorities* of the nodes are computed on the spatial network and the results are illustrated."
   ]
  },
  {
   "cell_type": "code",
   "execution_count": null,
   "metadata": {},
   "outputs": [],
   "source": [
    "from utils.metrics import get_nodes_hits_centrality\n",
    "\n",
    "spatial_network_hits = get_nodes_hits_centrality(spatial_network, weight='weight', normalize=False)"
   ]
  },
  {
   "cell_type": "code",
   "execution_count": null,
   "metadata": {},
   "outputs": [],
   "source": [
    "from utils.graphics import plot_centrality\n",
    "\n",
    "plot_centrality(gdf, spatial_network, spatial_network_hits[0], \n",
    "                title = f\"{CITY_NAME}'s Hubs centrality based on city distance\")\n",
    "\n",
    "plot_centrality(gdf, spatial_network, spatial_network_hits[1], \n",
    "                title = f\"{CITY_NAME}'s Authorities centrality based on city distance\")\n"
   ]
  },
  {
   "cell_type": "code",
   "execution_count": null,
   "metadata": {},
   "outputs": [],
   "source": [
    "from utils.graphics import plot_spatial_network_centrality_distribution\n",
    "\n",
    "plot_spatial_network_centrality_distribution(spatial_network_hits[0], 'hubs centrality')\n",
    "plot_spatial_network_centrality_distribution(spatial_network_hits[1], 'authorities centrality')"
   ]
  },
  {
   "attachments": {},
   "cell_type": "markdown",
   "metadata": {},
   "source": [
    "## 02.2 Community Detection\n",
    "The community detection algorithms aim to discover groups within the networks as part of our objective to reveal insights about the traffic flow structure. The results on the temporal graphs may help locate specific areas within the cities which display similar traffic behavior\n",
    "during certain times of the day. Regarding the spatial network, the found communities should indicate structurally similar areas. As explained in the Dataset section we applied community detection on an undirected version of the temporal graphs."
   ]
  },
  {
   "cell_type": "code",
   "execution_count": null,
   "metadata": {},
   "outputs": [],
   "source": [
    "# Build a directory to save the results\n",
    "RESULTS_DIR = 'results'\n",
    "os.makedirs(RESULTS_DIR, exist_ok=True)"
   ]
  },
  {
   "attachments": {},
   "cell_type": "markdown",
   "metadata": {},
   "source": [
    "The community detection is applied on an undirected version of the temporal network for complexity and algorithmic compatibility resons. The undirected version of the temporal network is built below and its characteristics are illustrated"
   ]
  },
  {
   "cell_type": "code",
   "execution_count": null,
   "metadata": {},
   "outputs": [],
   "source": [
    "undirected_temporal_networks_dict = {k: v.to_undirected() for k, v in temporal_networks_dict.items()}"
   ]
  },
  {
   "cell_type": "code",
   "execution_count": null,
   "metadata": {},
   "outputs": [],
   "source": [
    "for k, v in undirected_temporal_networks_dict.items():\n",
    "   print(f'Undirected temporal network at time {k}: nodes: {len(v.nodes())} edges: {len(v.edges())}') "
   ]
  },
  {
   "cell_type": "code",
   "execution_count": null,
   "metadata": {},
   "outputs": [],
   "source": [
    "for k, v in undirected_temporal_networks_dict.items():\n",
    "    print(f'Undirected temporal network at time {k} density: {nx.density(v)}') "
   ]
  },
  {
   "attachments": {},
   "cell_type": "markdown",
   "metadata": {},
   "source": [
    "### 02.2.1 Girvan-Newmann Strength ofWeak Ties algorithm\n",
    "In this algorithm the edges with the highest weighted betweenness are gradually removed and the measure is recomputed after every removal until the network falls off to smaller components. In the temporal graph the obtained communities should consist in travel clusters which can\n",
    "be connected through others by highly traffic-busy edges. In the spatial graph it should define densely connected areas which are highly distant from each other."
   ]
  },
  {
   "cell_type": "code",
   "execution_count": null,
   "metadata": {},
   "outputs": [],
   "source": [
    "from utils.metrics import get_girvan_newman_communities\n",
    "from time import time\n",
    "\n",
    "temporal_networks_girvan_newman_communities = dict()\n",
    "times = dict()\n",
    "\n",
    "for k, v in undirected_temporal_networks_dict.items():\n",
    "    start_time = time()\n",
    "    temporal_networks_girvan_newman_communities[k] = get_girvan_newman_communities(v, weight='mean_travel_time', k=4, seed=42)\n",
    "    times[k] = time() - start_time\n",
    "\n",
    "for k, t in times.items():\n",
    "    print(f'Time for computing the temporal network communities at time {k:02d}:00:', f'{t:.2f} s')\n",
    "print()\n",
    "print(f'Total for computing the temporal network communities at time {k:02d}:00:', f'{sum(times.values()):.2f} s')"
   ]
  },
  {
   "cell_type": "code",
   "execution_count": null,
   "metadata": {},
   "outputs": [],
   "source": [
    "from utils.graphics import plot_communities\n",
    "\n",
    "for k, v in temporal_networks_girvan_newman_communities.items():\n",
    "    plot_communities(gdf, spatial_network, v, title = f\"{CITY_NAME}'s Girvan-Newman communities at {k:02d}:00\")"
   ]
  },
  {
   "cell_type": "code",
   "execution_count": null,
   "metadata": {},
   "outputs": [],
   "source": [
    "import pickle\n",
    "\n",
    "with open(os.path.join(RESULTS_DIR, f'{CITY_NAME}-girvan-newman-temporal.pickle'), 'wb') as f:\n",
    "    pickle.dump(temporal_networks_girvan_newman_communities, f)"
   ]
  },
  {
   "cell_type": "code",
   "execution_count": null,
   "metadata": {},
   "outputs": [],
   "source": [
    "import pickle\n",
    "\n",
    "with open(os.path.join(RESULTS_DIR, f'{CITY_NAME}-girvan-newman-temporal.pickle'), 'rb') as f:\n",
    "    temporal_networks_girvan_newman_communities = pickle.load(f)"
   ]
  },
  {
   "cell_type": "code",
   "execution_count": null,
   "metadata": {},
   "outputs": [],
   "source": [
    "from utils.metrics import get_girvan_newman_communities\n",
    "\n",
    "start_time = time()\n",
    "spatial_network_girvan_newman_communities = get_girvan_newman_communities(spatial_network, weight='weight', k=4, seed=42)\n",
    "print(f'Time for computing the spatial network communities', f'{time() - start_time:.2f} s')"
   ]
  },
  {
   "cell_type": "code",
   "execution_count": null,
   "metadata": {},
   "outputs": [],
   "source": [
    "from utils.graphics import plot_communities\n",
    "\n",
    "plot_communities(gdf, spatial_network, spatial_network_girvan_newman_communities, \n",
    "                 title = f\"{CITY_NAME}'s Girvan-Newman communities based on city distance\")"
   ]
  },
  {
   "cell_type": "code",
   "execution_count": null,
   "metadata": {},
   "outputs": [],
   "source": [
    "import pickle\n",
    "\n",
    "with open(os.path.join(RESULTS_DIR, f'{CITY_NAME}-girvan-newman-spatial.pickle'), 'wb') as f:\n",
    "    pickle.dump(spatial_network_girvan_newman_communities, f)"
   ]
  },
  {
   "cell_type": "code",
   "execution_count": null,
   "metadata": {},
   "outputs": [],
   "source": [
    "import pickle\n",
    "\n",
    "with open(os.path.join(RESULTS_DIR, f'{CITY_NAME}-girvan-newman-spatial.pickle'), 'rb') as f:\n",
    "    spatial_network_girvan_newman_communities = pickle.load(f)"
   ]
  },
  {
   "attachments": {},
   "cell_type": "markdown",
   "metadata": {},
   "source": [
    "### 02.2.2 Community Detection based onWeighted K-Cores\n",
    "A *weighted k-core* is a connected set of nodes where each has a weighted degree of value at least *k*. Once a *k-core*\n",
    "community is computed, the algorithm is repeated for the remaining subgraph until all nodes are assigned to a community. This algorithm should define in the temporal graph similarly connected traffic-busy clusters, while it should create a partition of the spatial network based on groups of connected zones with similar distance between each other."
   ]
  },
  {
   "cell_type": "code",
   "execution_count": null,
   "metadata": {},
   "outputs": [],
   "source": [
    "from utils.metrics import get_k_cores_communities\n",
    "from time import time\n",
    "\n",
    "temporal_networks_k_core_communities = dict()\n",
    "times = dict()\n",
    "\n",
    "for k, v in undirected_temporal_networks_dict.items():\n",
    "    start_time = time()\n",
    "    temporal_networks_k_core_communities[k] = get_k_cores_communities(v, weight='mean_travel_time')\n",
    "    times[k] = time() - start_time\n",
    "\n",
    "for k, t in times.items():\n",
    "    print(f'Time for computing the temporal network communities at time {k:02d}:00:', f'{t:.2f} s')\n",
    "print()\n",
    "print(f'Total for computing the temporal network communities at time {k:02d}:00:', f'{sum(times.values()):.2f} s')"
   ]
  },
  {
   "cell_type": "code",
   "execution_count": null,
   "metadata": {},
   "outputs": [],
   "source": [
    "from utils.graphics import plot_communities\n",
    "\n",
    "for k, v in temporal_networks_k_core_communities.items():\n",
    "    plot_communities(gdf, spatial_network, v, title = f\"{CITY_NAME}'s k-core communities at {k:02d}:00\")"
   ]
  },
  {
   "cell_type": "code",
   "execution_count": null,
   "metadata": {},
   "outputs": [],
   "source": [
    "import pickle\n",
    "\n",
    "with open(os.path.join(RESULTS_DIR, f'{CITY_NAME}-k-core-temporal.pickle'), 'wb') as f:\n",
    "    pickle.dump(temporal_networks_k_core_communities, f)"
   ]
  },
  {
   "cell_type": "code",
   "execution_count": null,
   "metadata": {},
   "outputs": [],
   "source": [
    "import pickle\n",
    "\n",
    "with open(os.path.join(RESULTS_DIR, f'{CITY_NAME}-k-core-temporal.pickle'), 'rb') as f:\n",
    "    temporal_networks_k_core_communities = pickle.load(f)"
   ]
  },
  {
   "cell_type": "code",
   "execution_count": null,
   "metadata": {},
   "outputs": [],
   "source": [
    "from utils.metrics import get_k_cores_communities\n",
    "\n",
    "start_time = time()\n",
    "spatial_network_k_core_communities = get_k_cores_communities(spatial_network, weight='weight')\n",
    "print(f'Time for computing the spatial network communities', f'{time() - start_time:.2f} s')"
   ]
  },
  {
   "cell_type": "code",
   "execution_count": null,
   "metadata": {},
   "outputs": [],
   "source": [
    "from utils.graphics import plot_communities\n",
    "\n",
    "plot_communities(gdf, spatial_network, spatial_network_k_core_communities, \n",
    "                 title = f\"{CITY_NAME}'s k-core communities based on city distance\")"
   ]
  },
  {
   "cell_type": "code",
   "execution_count": null,
   "metadata": {},
   "outputs": [],
   "source": [
    "import pickle\n",
    "\n",
    "with open(os.path.join(RESULTS_DIR, f'{CITY_NAME}-k-core-spatial.pickle'), 'wb') as f:\n",
    "    pickle.dump(spatial_network_k_core_communities, f)"
   ]
  },
  {
   "cell_type": "code",
   "execution_count": null,
   "metadata": {},
   "outputs": [],
   "source": [
    "import pickle\n",
    "\n",
    "with open(os.path.join(RESULTS_DIR, f'{CITY_NAME}-k-core-spatial.pickle'), 'rb') as f:\n",
    "    spatial_network_k_core_communities = pickle.load(f)"
   ]
  },
  {
   "attachments": {},
   "cell_type": "markdown",
   "metadata": {},
   "source": [
    "### 02.2.3 Clique Percolation Method\n",
    "A community detection algorithm that computes communities from *k-cliques*. In addition, in order for a k-clique to be considered, the *geometric mean* among the weight of its edges (or *intensity*) should be less or equal than a threshold *l*. The algorithm is repeated in the remaining subgraph until all nodes are assigned to a community. It should identify group of nodes more densely connected between each\n",
    "others, such as connected regions in the spatial graph or zones connected by travels in the temporal ones. The intensity component should penalize weak connections in the communities."
   ]
  },
  {
   "cell_type": "code",
   "execution_count": null,
   "metadata": {},
   "outputs": [],
   "source": [
    "from utils.metrics import get_clique_percolation_communities\n",
    "from time import time\n",
    "\n",
    "temporal_networks_clique_percolation_communities = dict()\n",
    "times = dict()\n",
    "\n",
    "for k, v in undirected_temporal_networks_dict.items():\n",
    "    start_time = time()\n",
    "    temporal_networks_clique_percolation_communities[k] = get_clique_percolation_communities(v, weight='mean_travel_time', k=4)\n",
    "    times[k] = time() - start_time\n",
    "\n",
    "for k, t in times.items():\n",
    "    print(f'Time for computing the temporal network communities at time {k:02d}:00:', f'{t:.2f} s')\n",
    "print()\n",
    "print(f'Total for computing the temporal network communities at time {k:02d}:00:', f'{sum(times.values()):.2f} s')"
   ]
  },
  {
   "cell_type": "code",
   "execution_count": null,
   "metadata": {},
   "outputs": [],
   "source": [
    "from utils.graphics import plot_communities\n",
    "\n",
    "for k, v in temporal_networks_clique_percolation_communities.items():\n",
    "    plot_communities(gdf, spatial_network, v,\n",
    "                     title=f\"{CITY_NAME}'s Clique Percolation communities at {k:02d}:00\")"
   ]
  },
  {
   "cell_type": "code",
   "execution_count": null,
   "metadata": {},
   "outputs": [],
   "source": [
    "import pickle\n",
    "\n",
    "with open(os.path.join(RESULTS_DIR, f'{CITY_NAME}-cliques-percolation-temporal.pickle'), 'wb') as f:\n",
    "    pickle.dump(temporal_networks_clique_percolation_communities, f)"
   ]
  },
  {
   "cell_type": "code",
   "execution_count": null,
   "metadata": {},
   "outputs": [],
   "source": [
    "import pickle\n",
    "\n",
    "with open(os.path.join(RESULTS_DIR, f'{CITY_NAME}-cliques-percolation-temporal.pickle'), 'rb') as f:\n",
    "    temporal_networks_clique_percolation_communities = pickle.load(f)"
   ]
  },
  {
   "cell_type": "code",
   "execution_count": null,
   "metadata": {},
   "outputs": [],
   "source": [
    "from utils.metrics import get_clique_percolation_communities\n",
    "\n",
    "start_time = time()\n",
    "spatial_network_clique_percolation_communities = get_clique_percolation_communities(spatial_network, weight='weight', k=2)\n",
    "print(f'Time for computing the spatial network communities', f'{time() - start_time:.2f} s')"
   ]
  },
  {
   "cell_type": "code",
   "execution_count": null,
   "metadata": {},
   "outputs": [],
   "source": [
    "from utils.graphics import plot_communities\n",
    "\n",
    "plot_communities(gdf, spatial_network, spatial_network_clique_percolation_communities, \n",
    "                 title = f\"{CITY_NAME}'s Clique Percolation communities based on city distance\")"
   ]
  },
  {
   "cell_type": "code",
   "execution_count": null,
   "metadata": {},
   "outputs": [],
   "source": [
    "import pickle\n",
    "\n",
    "with open(os.path.join(RESULTS_DIR, f'{CITY_NAME}-cliques-percolation-spatial.pickle'), 'wb') as f:\n",
    "    pickle.dump(spatial_network_clique_percolation_communities, f)"
   ]
  },
  {
   "cell_type": "code",
   "execution_count": null,
   "metadata": {},
   "outputs": [],
   "source": [
    "import pickle\n",
    "\n",
    "with open(os.path.join(RESULTS_DIR, f'{CITY_NAME}-cliques-percolation-spatial.pickle'), 'rb') as f:\n",
    "    spatial_network_clique_percolation_communities = pickle.load(f)"
   ]
  },
  {
   "attachments": {},
   "cell_type": "markdown",
   "metadata": {},
   "source": [
    "### 02.2.4 Louvain Community Detection Algorithm\n",
    "A heuristic community detection algorithm that computes communities by optimizing the *modularity* of the network. Given this premise, the obtained partition will obviously be the ones reching the highest modularity scores. Hence, the results of this methodology are used as a baseline to compare the quality of the other community detection algorithms."
   ]
  },
  {
   "cell_type": "code",
   "execution_count": null,
   "metadata": {},
   "outputs": [],
   "source": [
    "from utils.metrics import get_louvain_communities\n",
    "from time import time\n",
    "\n",
    "temporal_networks_louvain_communities = dict()\n",
    "times = dict()\n",
    "\n",
    "for k, v in undirected_temporal_networks_dict.items():\n",
    "    start_time = time()\n",
    "    temporal_networks_louvain_communities[k] = get_louvain_communities(v, weight='mean_travel_time')\n",
    "    times[k] = time() - start_time\n",
    "\n",
    "for k, t in times.items():\n",
    "    print(f'Time for computing the temporal network communities at time {k:02d}:00:', f'{t:.2f} s')\n",
    "print()\n",
    "print(f'Total for computing the temporal network communities at time {k:02d}:00:', f'{sum(times.values()):.2f} s')"
   ]
  },
  {
   "cell_type": "code",
   "execution_count": null,
   "metadata": {},
   "outputs": [],
   "source": [
    "from utils.graphics import plot_communities\n",
    "\n",
    "for k, v in temporal_networks_louvain_communities.items():\n",
    "    plot_communities(gdf, spatial_network, v,\n",
    "                     title=f\"{CITY_NAME}'s Louvain communities at {k:02d}:00\")"
   ]
  },
  {
   "cell_type": "code",
   "execution_count": null,
   "metadata": {},
   "outputs": [],
   "source": [
    "import pickle\n",
    "\n",
    "with open(os.path.join(RESULTS_DIR, f'{CITY_NAME}-louvain-temporal.pickle'), 'wb') as f:\n",
    "    pickle.dump(temporal_networks_louvain_communities, f)"
   ]
  },
  {
   "cell_type": "code",
   "execution_count": null,
   "metadata": {},
   "outputs": [],
   "source": [
    "import pickle\n",
    "\n",
    "with open(os.path.join(RESULTS_DIR, f'{CITY_NAME}-louvain-temporal.pickle'), 'rb') as f:\n",
    "    temporal_networks_louvain_communities = pickle.load(f)"
   ]
  },
  {
   "cell_type": "code",
   "execution_count": null,
   "metadata": {},
   "outputs": [],
   "source": [
    "from utils.metrics import get_louvain_communities\n",
    "\n",
    "start_time = time()\n",
    "spatial_network_louvain_communities = get_louvain_communities(spatial_network, weight='weight')\n",
    "print(f'Time for computing the spatial network communities', f'{time() - start_time:.2f} s')"
   ]
  },
  {
   "cell_type": "code",
   "execution_count": null,
   "metadata": {},
   "outputs": [],
   "source": [
    "from utils.graphics import plot_communities\n",
    "\n",
    "plot_communities(gdf, spatial_network, spatial_network_louvain_communities, \n",
    "                 title = f\"{CITY_NAME}'s Louvain communities based on city distance\")"
   ]
  },
  {
   "cell_type": "code",
   "execution_count": null,
   "metadata": {},
   "outputs": [],
   "source": [
    "import pickle\n",
    "\n",
    "with open(os.path.join(RESULTS_DIR, f'{CITY_NAME}-louvain-spatial.pickle'), 'wb') as f:\n",
    "    pickle.dump(spatial_network_louvain_communities, f)"
   ]
  },
  {
   "cell_type": "code",
   "execution_count": null,
   "metadata": {},
   "outputs": [],
   "source": [
    "import pickle\n",
    "\n",
    "with open(os.path.join(RESULTS_DIR, f'{CITY_NAME}-louvain-spatial.pickle'), 'rb') as f:\n",
    "    spatial_network_louvain_communities = pickle.load(f)"
   ]
  },
  {
   "attachments": {},
   "cell_type": "markdown",
   "metadata": {},
   "source": [
    "### 02.2.5 Modularity comparison\n",
    "The modularity measure has been considered as an objective evaluation metric for the quality of the communities. Networks with high modularity have dense connections between the nodes within modules but sparse connections between nodes in different modules.\n",
    "\n",
    "The results can be observed below."
   ]
  },
  {
   "cell_type": "code",
   "execution_count": null,
   "metadata": {},
   "outputs": [],
   "source": [
    "from utils.graphics import plot_temporal_network_modularities\n",
    "\n",
    "plot_temporal_network_modularities(undirected_temporal_networks_dict, CITY_NAME, temporal_networks_girvan_newman_communities,\n",
    "                                   temporal_networks_k_core_communities, temporal_networks_clique_percolation_communities,\n",
    "                                   temporal_networks_louvain_communities)"
   ]
  },
  {
   "cell_type": "code",
   "execution_count": null,
   "metadata": {},
   "outputs": [],
   "source": [
    "from utils.graphics import plot_spatial_network_modularities\n",
    "\n",
    "plot_spatial_network_modularities(spatial_network, CITY_NAME, spatial_network_girvan_newman_communities,\n",
    "                                  spatial_network_k_core_communities, spatial_network_clique_percolation_communities,\n",
    "                                  spatial_network_louvain_communities) "
   ]
  }
 ],
 "metadata": {
  "kernelspec": {
   "display_name": "Python 3",
   "language": "python",
   "name": "python3"
  },
  "language_info": {
   "codemirror_mode": {
    "name": "ipython",
    "version": 3
   },
   "file_extension": ".py",
   "mimetype": "text/x-python",
   "name": "python",
   "nbconvert_exporter": "python",
   "pygments_lexer": "ipython3",
   "version": "3.10.0"
  },
  "orig_nbformat": 4,
  "vscode": {
   "interpreter": {
    "hash": "0bb5e395f71e970ef2dfa88b10e29155c2f154fbffe5a547ccb4cc942724aa68"
   }
  }
 },
 "nbformat": 4,
 "nbformat_minor": 2
}
